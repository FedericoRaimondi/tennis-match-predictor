{
 "cells": [
  {
   "cell_type": "markdown",
   "id": "ccbe07fe",
   "metadata": {},
   "source": [
    "# ML experimentation Notebook"
   ]
  },
  {
   "cell_type": "code",
   "execution_count": null,
   "id": "8f2c6005",
   "metadata": {},
   "outputs": [],
   "source": [
    "import pandas as pd\n",
    "import numpy as np\n",
    "from sklearn.model_selection import train_test_split\n",
    "from sklearn.ensemble import RandomForestClassifier\n",
    "from sklearn.metrics import accuracy_score, classification_report\n",
    "from xgboost import XGBClassifier"
   ]
  },
  {
   "cell_type": "code",
   "execution_count": null,
   "id": "2cee9828",
   "metadata": {},
   "outputs": [],
   "source": [
    "pd.set_option(\"display.max_rows\", None)"
   ]
  },
  {
   "cell_type": "code",
   "execution_count": null,
   "id": "6f20271c",
   "metadata": {},
   "outputs": [
    {
     "name": "stdout",
     "output_type": "stream",
     "text": [
      "DataFrame loaded with 98355 rows and 152 columns.\n"
     ]
    }
   ],
   "source": [
    "file_path = \"../data/ml_dataset.pkl\"\n",
    "df = pd.read_pickle(file_path)\n",
    "print(f\"DataFrame loaded with {len(df)} rows and {len(df.columns)} columns.\")"
   ]
  },
  {
   "cell_type": "code",
   "execution_count": 15,
   "id": "dc37ab95",
   "metadata": {},
   "outputs": [
    {
     "data": {
      "text/plain": [
       "tourney_id                                    object\n",
       "tourney_date                          datetime64[ns]\n",
       "match_num                                      int64\n",
       "player_1                                       int64\n",
       "player_2                                       int64\n",
       "winner                                         int64\n",
       "tourney_name                                  object\n",
       "surface                                       object\n",
       "draw_size                                    float64\n",
       "tourney_level                                 object\n",
       "tourney_year                                   int32\n",
       "player_id                                      int64\n",
       "player_seed                                  float64\n",
       "player_entry                                  object\n",
       "player_name                                   object\n",
       "player_hand                                   object\n",
       "player_ht                                    float64\n",
       "player_ioc                                    object\n",
       "player_age                                   float64\n",
       "player_rank                                  float64\n",
       "player_rank_points                           float64\n",
       "p_ace                                        float64\n",
       "p_df                                         float64\n",
       "p_svpt                                       float64\n",
       "p_1stIn                                      float64\n",
       "p_1stWon                                     float64\n",
       "p_2ndWon                                     float64\n",
       "p_SvGms                                      float64\n",
       "p_bpSaved                                    float64\n",
       "p_bpFaced                                    float64\n",
       "opponent_id                                    int64\n",
       "opponent_seed                                float64\n",
       "opponent_entry                                object\n",
       "opponent_name                                 object\n",
       "opponent_hand                                 object\n",
       "opponent_ht                                  float64\n",
       "opponent_ioc                                  object\n",
       "opponent_age                                 float64\n",
       "opponent_rank                                float64\n",
       "opponent_rank_points                         float64\n",
       "o_ace                                        float64\n",
       "o_df                                         float64\n",
       "o_svpt                                       float64\n",
       "o_1stIn                                      float64\n",
       "o_1stWon                                     float64\n",
       "o_2ndWon                                     float64\n",
       "o_SvGms                                      float64\n",
       "o_bpSaved                                    float64\n",
       "o_bpFaced                                    float64\n",
       "score                                         object\n",
       "best_of                                        int64\n",
       "round                                         object\n",
       "minutes                                      float64\n",
       "results                                        int64\n",
       "p_ace_mean_last5                             float64\n",
       "p_df_mean_last5                              float64\n",
       "p_svpt_mean_last5                            float64\n",
       "p_1stIn_mean_last5                           float64\n",
       "p_1stWon_mean_last5                          float64\n",
       "p_2ndWon_mean_last5                          float64\n",
       "p_SvGms_mean_last5                           float64\n",
       "p_bpSaved_mean_last5                         float64\n",
       "p_bpFaced_mean_last5                         float64\n",
       "opponent_rank_points_mean_last5              float64\n",
       "o_ace_mean_last5                             float64\n",
       "o_df_mean_last5                              float64\n",
       "o_svpt_mean_last5                            float64\n",
       "o_1stIn_mean_last5                           float64\n",
       "o_1stWon_mean_last5                          float64\n",
       "o_2ndWon_mean_last5                          float64\n",
       "o_SvGms_mean_last5                           float64\n",
       "o_bpSaved_mean_last5                         float64\n",
       "o_bpFaced_mean_last5                         float64\n",
       "minutes_mean_last5                           float64\n",
       "minutes_sum_last5                            float64\n",
       "results_sum_last5                            float64\n",
       "tourney_name_p2                               object\n",
       "surface_p2                                    object\n",
       "draw_size_p2                                 float64\n",
       "tourney_level_p2                              object\n",
       "tourney_year_p2                                int32\n",
       "player_id_p2                                   int64\n",
       "player_seed_p2                               float64\n",
       "player_entry_p2                               object\n",
       "player_name_p2                                object\n",
       "player_hand_p2                                object\n",
       "player_ht_p2                                 float64\n",
       "player_ioc_p2                                 object\n",
       "player_age_p2                                float64\n",
       "player_rank_p2                               float64\n",
       "player_rank_points_p2                        float64\n",
       "p_ace_p2                                     float64\n",
       "p_df_p2                                      float64\n",
       "p_svpt_p2                                    float64\n",
       "p_1stIn_p2                                   float64\n",
       "p_1stWon_p2                                  float64\n",
       "p_2ndWon_p2                                  float64\n",
       "p_SvGms_p2                                   float64\n",
       "p_bpSaved_p2                                 float64\n",
       "p_bpFaced_p2                                 float64\n",
       "opponent_id_p2                                 int64\n",
       "opponent_seed_p2                             float64\n",
       "opponent_entry_p2                             object\n",
       "opponent_name_p2                              object\n",
       "opponent_hand_p2                              object\n",
       "opponent_ht_p2                               float64\n",
       "opponent_ioc_p2                               object\n",
       "opponent_age_p2                              float64\n",
       "opponent_rank_p2                             float64\n",
       "opponent_rank_points_p2                      float64\n",
       "o_ace_p2                                     float64\n",
       "o_df_p2                                      float64\n",
       "o_svpt_p2                                    float64\n",
       "o_1stIn_p2                                   float64\n",
       "o_1stWon_p2                                  float64\n",
       "o_2ndWon_p2                                  float64\n",
       "o_SvGms_p2                                   float64\n",
       "o_bpSaved_p2                                 float64\n",
       "o_bpFaced_p2                                 float64\n",
       "score_p2                                      object\n",
       "best_of_p2                                     int64\n",
       "round_p2                                      object\n",
       "minutes_p2                                   float64\n",
       "results_p2                                     int64\n",
       "p_ace_mean_last5_p2                          float64\n",
       "p_df_mean_last5_p2                           float64\n",
       "p_svpt_mean_last5_p2                         float64\n",
       "p_1stIn_mean_last5_p2                        float64\n",
       "p_1stWon_mean_last5_p2                       float64\n",
       "p_2ndWon_mean_last5_p2                       float64\n",
       "p_SvGms_mean_last5_p2                        float64\n",
       "p_bpSaved_mean_last5_p2                      float64\n",
       "p_bpFaced_mean_last5_p2                      float64\n",
       "opponent_rank_points_mean_last5_p2           float64\n",
       "o_ace_mean_last5_p2                          float64\n",
       "o_df_mean_last5_p2                           float64\n",
       "o_svpt_mean_last5_p2                         float64\n",
       "o_1stIn_mean_last5_p2                        float64\n",
       "o_1stWon_mean_last5_p2                       float64\n",
       "o_2ndWon_mean_last5_p2                       float64\n",
       "o_SvGms_mean_last5_p2                        float64\n",
       "o_bpSaved_mean_last5_p2                      float64\n",
       "o_bpFaced_mean_last5_p2                      float64\n",
       "minutes_mean_last5_p2                        float64\n",
       "minutes_sum_last5_p2                         float64\n",
       "results_sum_last5_p2                         float64\n",
       "tourney_name_t                                object\n",
       "surface_t                                     object\n",
       "draw_size_t                                  float64\n",
       "tourney_level_t                               object\n",
       "tourney_date_t                        datetime64[ns]\n",
       "tourney_year_t                                 int32\n",
       "dtype: object"
      ]
     },
     "execution_count": 15,
     "metadata": {},
     "output_type": "execute_result"
    }
   ],
   "source": [
    "df.dtypes"
   ]
  },
  {
   "cell_type": "code",
   "execution_count": null,
   "id": "926f50b9",
   "metadata": {},
   "outputs": [
    {
     "name": "stdout",
     "output_type": "stream",
     "text": [
      "Categorical columns: ['tourney_id', 'tourney_name', 'surface', 'tourney_level', 'player_entry', 'player_name', 'player_hand', 'player_ioc', 'opponent_entry', 'opponent_name', 'opponent_hand', 'opponent_ioc', 'score', 'round', 'tourney_name_p2', 'surface_p2', 'tourney_level_p2', 'player_entry_p2', 'player_name_p2', 'player_hand_p2', 'player_ioc_p2', 'opponent_entry_p2', 'opponent_name_p2', 'opponent_hand_p2', 'opponent_ioc_p2', 'score_p2', 'round_p2', 'tourney_name_t', 'surface_t', 'tourney_level_t']\n"
     ]
    }
   ],
   "source": [
    "# Get all columns with dtype 'object'\n",
    "cat_columns = df.select_dtypes(include=\"object\").columns.tolist()\n",
    "print(f\"Categorical columns: {cat_columns}\")"
   ]
  },
  {
   "cell_type": "code",
   "execution_count": null,
   "id": "1b2dcea9",
   "metadata": {},
   "outputs": [
    {
     "name": "stdout",
     "output_type": "stream",
     "text": [
      "Datetime columns: ['tourney_date', 'tourney_date_t']\n"
     ]
    }
   ],
   "source": [
    "# Get all columns with dtype 'datetime64[ns]'\n",
    "date_columns = df.select_dtypes(include=\"datetime64[ns]\").columns.tolist()\n",
    "print(f\"Datetime columns: {date_columns}\")"
   ]
  },
  {
   "cell_type": "code",
   "execution_count": null,
   "id": "d2c769f2",
   "metadata": {},
   "outputs": [
    {
     "data": {
      "text/plain": [
       "39"
      ]
     },
     "execution_count": 62,
     "metadata": {},
     "output_type": "execute_result"
    }
   ],
   "source": [
    "features = [\n",
    "    col\n",
    "    for col in df.columns\n",
    "    if col not in cat_columns\n",
    "    and col not in date_columns\n",
    "    and \"_id\" not in col\n",
    "    and \"p_\" not in col\n",
    "    and \"o_\" not in col\n",
    "    and col != \"winner\"\n",
    "    and \"results\" not in col\n",
    "]\n",
    "len(features)"
   ]
  },
  {
   "cell_type": "code",
   "execution_count": 63,
   "id": "17b754f2",
   "metadata": {},
   "outputs": [
    {
     "data": {
      "text/plain": [
       "['match_num',\n",
       " 'player_1',\n",
       " 'player_2',\n",
       " 'draw_size',\n",
       " 'tourney_year',\n",
       " 'player_seed',\n",
       " 'player_ht',\n",
       " 'player_age',\n",
       " 'player_rank',\n",
       " 'player_rank_points',\n",
       " 'opponent_seed',\n",
       " 'opponent_ht',\n",
       " 'opponent_age',\n",
       " 'opponent_rank',\n",
       " 'opponent_rank_points',\n",
       " 'best_of',\n",
       " 'minutes',\n",
       " 'opponent_rank_points_mean_last5',\n",
       " 'minutes_mean_last5',\n",
       " 'minutes_sum_last5',\n",
       " 'draw_size_p2',\n",
       " 'tourney_year_p2',\n",
       " 'player_seed_p2',\n",
       " 'player_ht_p2',\n",
       " 'player_age_p2',\n",
       " 'player_rank_p2',\n",
       " 'player_rank_points_p2',\n",
       " 'opponent_seed_p2',\n",
       " 'opponent_ht_p2',\n",
       " 'opponent_age_p2',\n",
       " 'opponent_rank_p2',\n",
       " 'opponent_rank_points_p2',\n",
       " 'best_of_p2',\n",
       " 'minutes_p2',\n",
       " 'opponent_rank_points_mean_last5_p2',\n",
       " 'minutes_mean_last5_p2',\n",
       " 'minutes_sum_last5_p2',\n",
       " 'draw_size_t',\n",
       " 'tourney_year_t']"
      ]
     },
     "execution_count": 63,
     "metadata": {},
     "output_type": "execute_result"
    }
   ],
   "source": [
    "features"
   ]
  },
  {
   "cell_type": "code",
   "execution_count": null,
   "id": "75cff9ac",
   "metadata": {},
   "outputs": [],
   "source": [
    "target_column = \"winner\"\n",
    "seed = 42"
   ]
  },
  {
   "cell_type": "code",
   "execution_count": null,
   "id": "1b5888ef",
   "metadata": {},
   "outputs": [],
   "source": [
    "X_train, X_test, y_train, y_test = train_test_split(\n",
    "    df[features], df[target_column], test_size=0.2, random_state=seed\n",
    ")"
   ]
  },
  {
   "cell_type": "code",
   "execution_count": null,
   "id": "914d0f2b",
   "metadata": {},
   "outputs": [
    {
     "name": "stdout",
     "output_type": "stream",
     "text": [
      "winner\n",
      "0    50.247827\n",
      "1    49.752173\n",
      "Name: count, dtype: float64\n",
      "winner\n",
      "0    50.170301\n",
      "1    49.829699\n",
      "Name: count, dtype: float64\n"
     ]
    }
   ],
   "source": [
    "print((y_train.value_counts() / len(y_train)) * 100)\n",
    "print((y_test.value_counts() / len(y_test)) * 100)"
   ]
  },
  {
   "cell_type": "code",
   "execution_count": null,
   "id": "89290292",
   "metadata": {},
   "outputs": [],
   "source": [
    "params = {\n",
    "    \"max_depth\": 6,\n",
    "    \"learning_rate\": 0.1,\n",
    "    \"n_estimators\": 100,\n",
    "    \"colsample_bytree\": 0.5,\n",
    "}"
   ]
  },
  {
   "cell_type": "code",
   "execution_count": null,
   "id": "62a9a9bd",
   "metadata": {},
   "outputs": [],
   "source": [
    "xgb_clf = XGBClassifier(\n",
    "    objective=\"binary:logistic\",\n",
    "    eval_metric=\"logloss\",\n",
    "    enable_categorical=True,\n",
    "    seed=seed,\n",
    "    **params,\n",
    ")"
   ]
  },
  {
   "cell_type": "code",
   "execution_count": 69,
   "id": "4b21963b",
   "metadata": {},
   "outputs": [
    {
     "name": "stdout",
     "output_type": "stream",
     "text": [
      "Train Accuracy: 0.6853108637079965\n",
      "Test Accuracy: 0.6539067663057292\n"
     ]
    }
   ],
   "source": [
    "xgb_clf_model = xgb_clf.fit(X_train, y_train)\n",
    "y_pred_train = xgb_clf_model.predict(X_train)\n",
    "y_pred = xgb_clf_model.predict(X_test)\n",
    "\n",
    "print(f\"Train Accuracy: {accuracy_score(y_train, y_pred_train)}\")\n",
    "print(f\"Test Accuracy: {accuracy_score(y_test, y_pred)}\")\n"
   ]
  },
  {
   "cell_type": "code",
   "execution_count": null,
   "id": "1edb0af0",
   "metadata": {},
   "outputs": [],
   "source": []
  }
 ],
 "metadata": {
  "kernelspec": {
   "display_name": "tennis-match-predictor",
   "language": "python",
   "name": "python3"
  },
  "language_info": {
   "codemirror_mode": {
    "name": "ipython",
    "version": 3
   },
   "file_extension": ".py",
   "mimetype": "text/x-python",
   "name": "python",
   "nbconvert_exporter": "python",
   "pygments_lexer": "ipython3",
   "version": "3.13.5"
  }
 },
 "nbformat": 4,
 "nbformat_minor": 5
}
