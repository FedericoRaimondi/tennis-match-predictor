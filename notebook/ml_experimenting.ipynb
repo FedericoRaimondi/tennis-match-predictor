{
 "cells": [
  {
   "cell_type": "markdown",
   "id": "ccbe07fe",
   "metadata": {},
   "source": [
    "# ML experimentation Notebook"
   ]
  },
  {
   "cell_type": "code",
   "execution_count": 17,
   "id": "8f2c6005",
   "metadata": {},
   "outputs": [],
   "source": [
    "import pandas as pd\n",
    "from sklearn.model_selection import train_test_split\n",
    "from sklearn.metrics import accuracy_score\n",
    "from xgboost import XGBClassifier\n",
    "import mlflow\n",
    "from mlflow.models import infer_signature"
   ]
  },
  {
   "cell_type": "code",
   "execution_count": 2,
   "id": "2cee9828",
   "metadata": {},
   "outputs": [],
   "source": [
    "pd.set_option(\"display.max_rows\", None)"
   ]
  },
  {
   "cell_type": "code",
   "execution_count": 3,
   "id": "6f20271c",
   "metadata": {},
   "outputs": [
    {
     "name": "stdout",
     "output_type": "stream",
     "text": [
      "DataFrame loaded with 98355 rows and 152 columns.\n"
     ]
    }
   ],
   "source": [
    "file_path = \"../data/ml_dataset.pkl\"\n",
    "df = pd.read_pickle(file_path)\n",
    "print(f\"DataFrame loaded with {len(df)} rows and {len(df.columns)} columns.\")"
   ]
  },
  {
   "cell_type": "code",
   "execution_count": 4,
   "id": "dc37ab95",
   "metadata": {},
   "outputs": [
    {
     "data": {
      "text/plain": [
       "tourney_id                                    object\n",
       "tourney_date                          datetime64[ns]\n",
       "match_num                                      int64\n",
       "player_1                                       int64\n",
       "player_2                                       int64\n",
       "winner                                         int64\n",
       "tourney_name                                  object\n",
       "surface                                       object\n",
       "draw_size                                    float64\n",
       "tourney_level                                 object\n",
       "tourney_year                                   int32\n",
       "player_id                                      int64\n",
       "player_seed                                  float64\n",
       "player_entry                                  object\n",
       "player_name                                   object\n",
       "player_hand                                   object\n",
       "player_ht                                    float64\n",
       "player_ioc                                    object\n",
       "player_age                                   float64\n",
       "player_rank                                  float64\n",
       "player_rank_points                           float64\n",
       "p_ace                                        float64\n",
       "p_df                                         float64\n",
       "p_svpt                                       float64\n",
       "p_1stIn                                      float64\n",
       "p_1stWon                                     float64\n",
       "p_2ndWon                                     float64\n",
       "p_SvGms                                      float64\n",
       "p_bpSaved                                    float64\n",
       "p_bpFaced                                    float64\n",
       "opponent_id                                    int64\n",
       "opponent_seed                                float64\n",
       "opponent_entry                                object\n",
       "opponent_name                                 object\n",
       "opponent_hand                                 object\n",
       "opponent_ht                                  float64\n",
       "opponent_ioc                                  object\n",
       "opponent_age                                 float64\n",
       "opponent_rank                                float64\n",
       "opponent_rank_points                         float64\n",
       "o_ace                                        float64\n",
       "o_df                                         float64\n",
       "o_svpt                                       float64\n",
       "o_1stIn                                      float64\n",
       "o_1stWon                                     float64\n",
       "o_2ndWon                                     float64\n",
       "o_SvGms                                      float64\n",
       "o_bpSaved                                    float64\n",
       "o_bpFaced                                    float64\n",
       "score                                         object\n",
       "best_of                                        int64\n",
       "round                                         object\n",
       "minutes                                      float64\n",
       "results                                        int64\n",
       "p_ace_mean_last5                             float64\n",
       "p_df_mean_last5                              float64\n",
       "p_svpt_mean_last5                            float64\n",
       "p_1stIn_mean_last5                           float64\n",
       "p_1stWon_mean_last5                          float64\n",
       "p_2ndWon_mean_last5                          float64\n",
       "p_SvGms_mean_last5                           float64\n",
       "p_bpSaved_mean_last5                         float64\n",
       "p_bpFaced_mean_last5                         float64\n",
       "opponent_rank_points_mean_last5              float64\n",
       "o_ace_mean_last5                             float64\n",
       "o_df_mean_last5                              float64\n",
       "o_svpt_mean_last5                            float64\n",
       "o_1stIn_mean_last5                           float64\n",
       "o_1stWon_mean_last5                          float64\n",
       "o_2ndWon_mean_last5                          float64\n",
       "o_SvGms_mean_last5                           float64\n",
       "o_bpSaved_mean_last5                         float64\n",
       "o_bpFaced_mean_last5                         float64\n",
       "minutes_mean_last5                           float64\n",
       "minutes_sum_last5                            float64\n",
       "results_sum_last5                            float64\n",
       "tourney_name_p2                               object\n",
       "surface_p2                                    object\n",
       "draw_size_p2                                 float64\n",
       "tourney_level_p2                              object\n",
       "tourney_year_p2                                int32\n",
       "player_id_p2                                   int64\n",
       "player_seed_p2                               float64\n",
       "player_entry_p2                               object\n",
       "player_name_p2                                object\n",
       "player_hand_p2                                object\n",
       "player_ht_p2                                 float64\n",
       "player_ioc_p2                                 object\n",
       "player_age_p2                                float64\n",
       "player_rank_p2                               float64\n",
       "player_rank_points_p2                        float64\n",
       "p_ace_p2                                     float64\n",
       "p_df_p2                                      float64\n",
       "p_svpt_p2                                    float64\n",
       "p_1stIn_p2                                   float64\n",
       "p_1stWon_p2                                  float64\n",
       "p_2ndWon_p2                                  float64\n",
       "p_SvGms_p2                                   float64\n",
       "p_bpSaved_p2                                 float64\n",
       "p_bpFaced_p2                                 float64\n",
       "opponent_id_p2                                 int64\n",
       "opponent_seed_p2                             float64\n",
       "opponent_entry_p2                             object\n",
       "opponent_name_p2                              object\n",
       "opponent_hand_p2                              object\n",
       "opponent_ht_p2                               float64\n",
       "opponent_ioc_p2                               object\n",
       "opponent_age_p2                              float64\n",
       "opponent_rank_p2                             float64\n",
       "opponent_rank_points_p2                      float64\n",
       "o_ace_p2                                     float64\n",
       "o_df_p2                                      float64\n",
       "o_svpt_p2                                    float64\n",
       "o_1stIn_p2                                   float64\n",
       "o_1stWon_p2                                  float64\n",
       "o_2ndWon_p2                                  float64\n",
       "o_SvGms_p2                                   float64\n",
       "o_bpSaved_p2                                 float64\n",
       "o_bpFaced_p2                                 float64\n",
       "score_p2                                      object\n",
       "best_of_p2                                     int64\n",
       "round_p2                                      object\n",
       "minutes_p2                                   float64\n",
       "results_p2                                     int64\n",
       "p_ace_mean_last5_p2                          float64\n",
       "p_df_mean_last5_p2                           float64\n",
       "p_svpt_mean_last5_p2                         float64\n",
       "p_1stIn_mean_last5_p2                        float64\n",
       "p_1stWon_mean_last5_p2                       float64\n",
       "p_2ndWon_mean_last5_p2                       float64\n",
       "p_SvGms_mean_last5_p2                        float64\n",
       "p_bpSaved_mean_last5_p2                      float64\n",
       "p_bpFaced_mean_last5_p2                      float64\n",
       "opponent_rank_points_mean_last5_p2           float64\n",
       "o_ace_mean_last5_p2                          float64\n",
       "o_df_mean_last5_p2                           float64\n",
       "o_svpt_mean_last5_p2                         float64\n",
       "o_1stIn_mean_last5_p2                        float64\n",
       "o_1stWon_mean_last5_p2                       float64\n",
       "o_2ndWon_mean_last5_p2                       float64\n",
       "o_SvGms_mean_last5_p2                        float64\n",
       "o_bpSaved_mean_last5_p2                      float64\n",
       "o_bpFaced_mean_last5_p2                      float64\n",
       "minutes_mean_last5_p2                        float64\n",
       "minutes_sum_last5_p2                         float64\n",
       "results_sum_last5_p2                         float64\n",
       "tourney_name_t                                object\n",
       "surface_t                                     object\n",
       "draw_size_t                                  float64\n",
       "tourney_level_t                               object\n",
       "tourney_date_t                        datetime64[ns]\n",
       "tourney_year_t                                 int32\n",
       "dtype: object"
      ]
     },
     "execution_count": 4,
     "metadata": {},
     "output_type": "execute_result"
    }
   ],
   "source": [
    "df.dtypes"
   ]
  },
  {
   "cell_type": "code",
   "execution_count": 5,
   "id": "926f50b9",
   "metadata": {},
   "outputs": [
    {
     "name": "stdout",
     "output_type": "stream",
     "text": [
      "Categorical columns: ['tourney_id', 'tourney_name', 'surface', 'tourney_level', 'player_entry', 'player_name', 'player_hand', 'player_ioc', 'opponent_entry', 'opponent_name', 'opponent_hand', 'opponent_ioc', 'score', 'round', 'tourney_name_p2', 'surface_p2', 'tourney_level_p2', 'player_entry_p2', 'player_name_p2', 'player_hand_p2', 'player_ioc_p2', 'opponent_entry_p2', 'opponent_name_p2', 'opponent_hand_p2', 'opponent_ioc_p2', 'score_p2', 'round_p2', 'tourney_name_t', 'surface_t', 'tourney_level_t']\n"
     ]
    }
   ],
   "source": [
    "# Get all columns with dtype 'object'\n",
    "cat_columns = df.select_dtypes(include=\"object\").columns.tolist()\n",
    "print(f\"Categorical columns: {cat_columns}\")"
   ]
  },
  {
   "cell_type": "code",
   "execution_count": 6,
   "id": "1b2dcea9",
   "metadata": {},
   "outputs": [
    {
     "name": "stdout",
     "output_type": "stream",
     "text": [
      "Datetime columns: ['tourney_date', 'tourney_date_t']\n"
     ]
    }
   ],
   "source": [
    "# Get all columns with dtype 'datetime64[ns]'\n",
    "date_columns = df.select_dtypes(include=\"datetime64[ns]\").columns.tolist()\n",
    "print(f\"Datetime columns: {date_columns}\")"
   ]
  },
  {
   "cell_type": "code",
   "execution_count": 7,
   "id": "d2c769f2",
   "metadata": {},
   "outputs": [
    {
     "data": {
      "text/plain": [
       "39"
      ]
     },
     "execution_count": 7,
     "metadata": {},
     "output_type": "execute_result"
    }
   ],
   "source": [
    "features = [\n",
    "    col\n",
    "    for col in df.columns\n",
    "    if col not in cat_columns\n",
    "    and col not in date_columns\n",
    "    and \"_id\" not in col\n",
    "    and \"p_\" not in col\n",
    "    and \"o_\" not in col\n",
    "    and col != \"winner\"\n",
    "    and \"results\" not in col\n",
    "]\n",
    "len(features)"
   ]
  },
  {
   "cell_type": "code",
   "execution_count": 8,
   "id": "17b754f2",
   "metadata": {},
   "outputs": [
    {
     "data": {
      "text/plain": [
       "['match_num',\n",
       " 'player_1',\n",
       " 'player_2',\n",
       " 'draw_size',\n",
       " 'tourney_year',\n",
       " 'player_seed',\n",
       " 'player_ht',\n",
       " 'player_age',\n",
       " 'player_rank',\n",
       " 'player_rank_points',\n",
       " 'opponent_seed',\n",
       " 'opponent_ht',\n",
       " 'opponent_age',\n",
       " 'opponent_rank',\n",
       " 'opponent_rank_points',\n",
       " 'best_of',\n",
       " 'minutes',\n",
       " 'opponent_rank_points_mean_last5',\n",
       " 'minutes_mean_last5',\n",
       " 'minutes_sum_last5',\n",
       " 'draw_size_p2',\n",
       " 'tourney_year_p2',\n",
       " 'player_seed_p2',\n",
       " 'player_ht_p2',\n",
       " 'player_age_p2',\n",
       " 'player_rank_p2',\n",
       " 'player_rank_points_p2',\n",
       " 'opponent_seed_p2',\n",
       " 'opponent_ht_p2',\n",
       " 'opponent_age_p2',\n",
       " 'opponent_rank_p2',\n",
       " 'opponent_rank_points_p2',\n",
       " 'best_of_p2',\n",
       " 'minutes_p2',\n",
       " 'opponent_rank_points_mean_last5_p2',\n",
       " 'minutes_mean_last5_p2',\n",
       " 'minutes_sum_last5_p2',\n",
       " 'draw_size_t',\n",
       " 'tourney_year_t']"
      ]
     },
     "execution_count": 8,
     "metadata": {},
     "output_type": "execute_result"
    }
   ],
   "source": [
    "features"
   ]
  },
  {
   "cell_type": "code",
   "execution_count": 9,
   "id": "75cff9ac",
   "metadata": {},
   "outputs": [],
   "source": [
    "target_column = \"winner\"\n",
    "seed = 42"
   ]
  },
  {
   "cell_type": "code",
   "execution_count": 10,
   "id": "1b5888ef",
   "metadata": {},
   "outputs": [],
   "source": [
    "X_train, X_test, y_train, y_test = train_test_split(\n",
    "    df[features], df[target_column], test_size=0.2, random_state=seed\n",
    ")"
   ]
  },
  {
   "cell_type": "code",
   "execution_count": 11,
   "id": "914d0f2b",
   "metadata": {},
   "outputs": [
    {
     "name": "stdout",
     "output_type": "stream",
     "text": [
      "winner\n",
      "0    50.247827\n",
      "1    49.752173\n",
      "Name: count, dtype: float64\n",
      "winner\n",
      "0    50.170301\n",
      "1    49.829699\n",
      "Name: count, dtype: float64\n"
     ]
    }
   ],
   "source": [
    "print((y_train.value_counts() / len(y_train)) * 100)\n",
    "print((y_test.value_counts() / len(y_test)) * 100)"
   ]
  },
  {
   "cell_type": "code",
   "execution_count": 12,
   "id": "9e9771c5",
   "metadata": {},
   "outputs": [
    {
     "name": "stderr",
     "output_type": "stream",
     "text": [
      "2025/08/10 11:41:51 INFO mlflow.tracking.fluent: Experiment with name 'ml_experimentation' does not exist. Creating a new experiment.\n"
     ]
    },
    {
     "name": "stdout",
     "output_type": "stream",
     "text": [
      "Current tracking uri: /Users/fraimondi/Desktop/repos/tennis-match-predictor/mlruns/\n"
     ]
    },
    {
     "data": {
      "text/plain": [
       "<Experiment: artifact_location='/Users/fraimondi/Desktop/repos/tennis-match-predictor/mlruns/511814337024080562', creation_time=1754818911959, experiment_id='511814337024080562', last_update_time=1754818911959, lifecycle_stage='active', name='ml_experimentation', tags={}>"
      ]
     },
     "execution_count": 12,
     "metadata": {},
     "output_type": "execute_result"
    }
   ],
   "source": [
    "mlflow.set_tracking_uri(\"/Users/fraimondi/Desktop/repos/tennis-match-predictor/mlruns/\")\n",
    "tracking_uri = mlflow.get_tracking_uri()\n",
    "print(f\"Current tracking uri: {tracking_uri}\")\n",
    "mlflow.set_experiment(\"ml_experimentation\")"
   ]
  },
  {
   "cell_type": "code",
   "execution_count": 13,
   "id": "b152047a",
   "metadata": {},
   "outputs": [],
   "source": [
    "params = {\n",
    "    \"max_depth\": 5,\n",
    "    \"learning_rate\": 0.01,\n",
    "    \"n_estimators\": 1000,\n",
    "    \"colsample_bytree\": 0.5,\n",
    "}\n",
    "\n",
    "xgb_clf = XGBClassifier(\n",
    "    objective=\"binary:logistic\",\n",
    "    eval_metric=\"logloss\",\n",
    "    enable_categorical=True,\n",
    "    seed=seed,\n",
    "    **params,\n",
    ")"
   ]
  },
  {
   "cell_type": "code",
   "execution_count": 20,
   "id": "1edb0af0",
   "metadata": {},
   "outputs": [
    {
     "name": "stdout",
     "output_type": "stream",
     "text": [
      "Train Accuracy: 0.6700\n",
      "Test Accuracy: 0.6547\n"
     ]
    },
    {
     "name": "stderr",
     "output_type": "stream",
     "text": [
      "/Users/fraimondi/Desktop/repos/tennis-match-predictor/.venv/lib/python3.13/site-packages/mlflow/types/utils.py:452: UserWarning: Hint: Inferred schema contains integer column(s). Integer columns in Python cannot represent missing values. If your input data contains missing values at inference time, it will be encoded as floats and will cause a schema enforcement error. The best way to avoid this problem is to infer the model schema based on a realistic data sample (training dataset) that includes missing values. Alternatively, you can declare integer columns as doubles (float64) whenever these columns may have missing values. See `Handling Integers With Missing Values <https://www.mlflow.org/docs/latest/models.html#handling-integers-with-missing-values>`_ for more details.\n",
      "  warnings.warn(\n",
      "/Users/fraimondi/Desktop/repos/tennis-match-predictor/.venv/lib/python3.13/site-packages/xgboost/sklearn.py:1028: UserWarning: [11:47:49] WARNING: /Users/runner/work/xgboost/xgboost/src/c_api/c_api.cc:1427: Saving model in the UBJSON format as default.  You can use file extension: `json`, `ubj` or `deprecated` to choose between formats.\n",
      "  self.get_booster().save_model(fname)\n",
      "2025/08/10 11:47:50 WARNING mlflow.utils.environment: Failed to resolve installed pip version. ``pip`` will be added to conda.yaml environment spec without a version specifier.\n"
     ]
    },
    {
     "name": "stdout",
     "output_type": "stream",
     "text": [
      "Run ID: ec99daef8ba448db896c87d75b42ce11\n"
     ]
    }
   ],
   "source": [
    "with mlflow.start_run() as run:\n",
    "    xgb_clf_model = xgb_clf.fit(X_train, y_train)\n",
    "    y_pred_train = xgb_clf_model.predict(X_train)\n",
    "    y_pred = xgb_clf_model.predict(X_test)\n",
    "\n",
    "    print(f\"Train Accuracy: {accuracy_score(y_train, y_pred_train):.4f}\")\n",
    "    print(f\"Test Accuracy: {accuracy_score(y_test, y_pred):.4f}\")\n",
    "\n",
    "    mlflow.log_params(params)\n",
    "    mlflow.log_metrics(\n",
    "        {\n",
    "            \"train_accuracy\": accuracy_score(y_train, y_pred_train),\n",
    "            \"test_accuracy\": accuracy_score(y_test, y_pred),\n",
    "        }\n",
    "    )\n",
    "    # Infer the signature from training data and predictions\n",
    "    signature = infer_signature(X_train.head(5), xgb_clf_model.predict(X_train.head(5)))\n",
    "    # Log the model with the signature\n",
    "    mlflow.xgboost.log_model(xgb_clf_model, name=\"model\", signature=signature)\n",
    "\n",
    "    print(f\"Run ID: {run.info.run_id}\")"
   ]
  },
  {
   "cell_type": "markdown",
   "id": "24f05b53",
   "metadata": {},
   "source": [
    "to see the results, activate the server: `uv run mlflow server --host 127.0.0.1 --port 8080`"
   ]
  },
  {
   "cell_type": "code",
   "execution_count": 22,
   "id": "f6ba3c22",
   "metadata": {},
   "outputs": [
    {
     "name": "stderr",
     "output_type": "stream",
     "text": [
      "Registered model 'tennis_predictor_model' already exists. Creating a new version of this model...\n",
      "2025/08/10 11:50:44 WARNING mlflow.tracking._model_registry.fluent: Run with id ec99daef8ba448db896c87d75b42ce11 has no artifacts at artifact path 'model', registering model based on models:/m-231205141f734cb3a8cf9be32a783d2c instead\n",
      "Created version '2' of model 'tennis_predictor_model'.\n"
     ]
    }
   ],
   "source": [
    "mv = mlflow.register_model(\n",
    "    f\"runs:/{run.info.run_id}/model\",\n",
    "    \"tennis_predictor_model\",\n",
    ")"
   ]
  },
  {
   "cell_type": "code",
   "execution_count": 24,
   "id": "0ad1353a",
   "metadata": {},
   "outputs": [],
   "source": [
    "client = mlflow.MlflowClient()\n",
    "\n",
    "# create \"champion\" alias for version 1 of model \"tennis_predictor_model\"\n",
    "client.set_registered_model_alias(\"tennis_predictor_model\", \"champion\", mv.version)"
   ]
  },
  {
   "cell_type": "code",
   "execution_count": null,
   "id": "c15d2b07",
   "metadata": {},
   "outputs": [],
   "source": [
    "xgb_loaded_model = mlflow.xgboost.load_model(\"models:/tennis_predictor_model@champion\")"
   ]
  },
  {
   "cell_type": "code",
   "execution_count": 26,
   "id": "d55d5ccb",
   "metadata": {},
   "outputs": [
    {
     "data": {
      "text/plain": [
       "array([0, 0, 1, ..., 1, 0, 1], shape=(19671,))"
      ]
     },
     "execution_count": 26,
     "metadata": {},
     "output_type": "execute_result"
    }
   ],
   "source": [
    "xgb_loaded_model.predict(X_test)"
   ]
  },
  {
   "cell_type": "code",
   "execution_count": 29,
   "id": "ac5bfd3a",
   "metadata": {},
   "outputs": [],
   "source": [
    "# X_test.head(1).to_dict(orient=\"split\")"
   ]
  },
  {
   "cell_type": "markdown",
   "id": "b9b185a8",
   "metadata": {},
   "source": [
    "serve the model:\n",
    "```bash\n",
    "mlflow models serve -m models:/tennis_predictor_model@champion -p 5000 --env-manager local\n",
    "```"
   ]
  },
  {
   "cell_type": "markdown",
   "id": "6eaf07c2",
   "metadata": {},
   "source": [
    "example of inference request\n",
    "```bash\n",
    "curl http://127.0.0.1:5000/invocations -H \"Content-Type:application/json\" --data '{\"dataframe_split\":{\"index\": [27711],\"columns\": [\"match_num\",\"player_1\",\"player_2\",\"draw_size\",\"tourney_year\",\"player_seed\",\"player_ht\",\"player_age\",\"player_rank\",\"player_rank_points\",\"opponent_seed\",\"opponent_ht\",\"opponent_age\",\"opponent_rank\",\"opponent_rank_points\",\"best_of\",\"minutes\",\"opponent_rank_points_mean_last5\",\"minutes_mean_last5\",\"minutes_sum_last5\",\"draw_size_p2\",\"tourney_year_p2\",\"player_seed_p2\",\"player_ht_p2\",\"player_age_p2\",\"player_rank_p2\",\"player_rank_points_p2\",\"opponent_seed_p2\",\"opponent_ht_p2\",\"opponent_age_p2\",\"opponent_rank_p2\",\"opponent_rank_points_p2\",\"best_of_p2\",\"minutes_p2\",\"opponent_rank_points_mean_last5_p2\",\"minutes_mean_last5_p2\",\"minutes_sum_last5_p2\",\"draw_size_t\",\"tourney_year_t\"],\"data\": [[46,102358,102998,128.0,1999,null,190.0,24.8,21.0,1608.0,null,190.0,21.6,38.0,983.0,5,120.0,718.2,71.0,355.0,128.0,1999,null,190.0,21.6,38.0,983.0,null,190.0,24.8,21.0,1608.0,5,120.0,2862.75,84.4,422.0,128.0,1999]]}}'\n",
    "```"
   ]
  },
  {
   "cell_type": "markdown",
   "id": "653a8967",
   "metadata": {},
   "source": []
  }
 ],
 "metadata": {
  "kernelspec": {
   "display_name": "tennis-match-predictor",
   "language": "python",
   "name": "python3"
  },
  "language_info": {
   "codemirror_mode": {
    "name": "ipython",
    "version": 3
   },
   "file_extension": ".py",
   "mimetype": "text/x-python",
   "name": "python",
   "nbconvert_exporter": "python",
   "pygments_lexer": "ipython3",
   "version": "3.13.5"
  }
 },
 "nbformat": 4,
 "nbformat_minor": 5
}
